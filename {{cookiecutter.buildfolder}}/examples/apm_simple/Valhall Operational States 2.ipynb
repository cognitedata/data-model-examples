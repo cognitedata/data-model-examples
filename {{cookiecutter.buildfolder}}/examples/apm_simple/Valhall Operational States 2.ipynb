{
    "cells": [
        {
            "attachments": {},
            "cell_type": "markdown",
            "metadata": {
                "slideshow": {
                    "slide_type": "notes"
                }
            },
            "source": [
                "# Copyright 2023 Cognite AS\n",
                "\n",
                " Licensed under the Apache License, Version 2.0 (the \"License\");\n",
                " you may not use this file except in compliance with the License.\n",
                " You may obtain a copy of the License at\n",
                "\n",
                "      <https://www.apache.org/licenses/LICENSE-2.0>\n",
                "\n",
                " Unless required by applicable law or agreed to in writing, software\n",
                " distributed under the License is distributed on an \"AS IS\" BASIS,\n",
                " WITHOUT WARRANTIES OR CONDITIONS OF ANY KIND, either express or implied.\n",
                " See the License for the specific language governing permissions and\n",
                " limitations under the License."
            ]
        },
        {
            "attachments": {},
            "cell_type": "markdown",
            "metadata": {},
            "source": [
                "# Investigating Additional Operational States\n",
                "\n",
                "We require an investigation into alternative modes of operation of the compressor system. Main variables of interest are the boundary conditions that are used in the simulator model. \n",
                "\n",
                "* Inlet pressure (23-PT-92504): 3 barg\n",
                "* Inlet temperature (23-TT-92504): 37.6 C\n",
                "* Outlet pressure (transmitters not available, used 23-PT-92536 – 23-PDT-92602 – 0.1 (assumed additional pressure loss)): 12 barg\n",
                "* Inlet Cooling Pressure (45-PT-93288, measurement not available, assumed) : 7.69 barg\n",
                "* Inlet Cooling Temperature (45-TT-92606): 16.8 C\n",
                "* Outlet Cooling Pressure (45-PT-92608): 5.05 barg\n",
                "\n",
                " \n",
                "\n",
                "Controlled variable:\n",
                "\n",
                "* Gas temp. out of coolers (23-TT-92604A): 34.73 C\n",
                "\n",
                "\n",
                "## Setup\n",
                "\n",
                "Retrieving requisite data from CDF. "
            ]
        },
        {
            "cell_type": "code",
            "execution_count": null,
            "metadata": {},
            "outputs": [],
            "source": [
                "from cognite.client import CogniteClient, ClientConfig\n",
                "from cognite.client.credentials import OAuthClientCredentials\n",
                "import os\n",
                "import pandas as pd\n",
                "\n",
                "client = CogniteClient(\n",
                "            ClientConfig(\n",
                "                client_name=\"Cognite examples library 0.1.0\",\n",
                "                base_url=os.environ[\"CDF_URL\"],\n",
                "                project=os.environ[\"CDF_PROJECT\"],\n",
                "                credentials=OAuthClientCredentials(\n",
                "                    token_url=os.environ[\"IDP_TOKEN_URL\"],\n",
                "                    client_id=os.environ[\"IDP_CLIENT_ID\"],\n",
                "                    # client secret should not be stored in-code, so we load it from an environment variable\n",
                "                    client_secret=os.environ[\"IDP_CLIENT_SECRET\"],\n",
                "                    scopes=[os.environ[\"IDP_SCOPES\"]],\n",
                "                ),\n",
                "            )\n",
                "        )\n",
                "\n"
            ]
        },
        {
            "cell_type": "code",
            "execution_count": null,
            "metadata": {},
            "outputs": [],
            "source": [
                "# Retrieve data from CDF\n",
                "ts_list = client.time_series.list(limit=-1)\n",
                "ts_map = {ts.external_id: f\"{ts.name}_{ts.unit}_{ts.description}; \" for ts in ts_list if not ts.is_string }\n"
            ]
        },
        {
            "cell_type": "code",
            "execution_count": null,
            "metadata": {},
            "outputs": [],
            "source": [
                "tags = ['23-PT-92504', '23-TIC-92504:Z.X', '23-PT-92536', '23-PDT-92602','45-PT-93288','45-TT-92606','45-PT-92608','23-TT-92604A']\n",
                "\n",
                "len(tags)"
            ]
        },
        {
            "cell_type": "code",
            "execution_count": null,
            "metadata": {},
            "outputs": [],
            "source": [
                "store={}\n",
                "for key, val in ts_map.items():\n",
                "    for tag in tags:\n",
                "        if tag in val:\n",
                "            store[key]= val\n",
                "            continue"
            ]
        },
        {
            "cell_type": "code",
            "execution_count": null,
            "metadata": {},
            "outputs": [],
            "source": [
                "ts_list[0].first()"
            ]
        },
        {
            "cell_type": "code",
            "execution_count": null,
            "metadata": {},
            "outputs": [],
            "source": [
                "start_date = pd.to_datetime('2013-01-01')\n",
                "end_date = 'now'\n",
                "\n",
                "\n",
                "df = client.time_series.data.retrieve_dataframe(start=start_date, end=end_date, external_id=list(store.keys()), aggregates=['average'], granularity='1h', include_aggregate_name=False)\n",
                "df_cdf = df.rename(columns=store)\n",
                "\n",
                "df_cdf.head()"
            ]
        },
        {
            "cell_type": "code",
            "execution_count": null,
            "metadata": {},
            "outputs": [],
            "source": [
                "# Deriving the outlet pressure\n",
                "df_cdf['outlet_pressure_bar'] = df_cdf.filter(regex='23-PT-92536')-df_cdf.filter(regex='23-PDT-92602').values - 0.1"
            ]
        },
        {
            "cell_type": "code",
            "execution_count": null,
            "metadata": {},
            "outputs": [],
            "source": [
                "# Drop the not needed ones\n",
                "cols_to_drop = df_cdf.filter(regex='(23-PT-92536)|(23-PDT-92602)').columns\n",
                "\n",
                "df_cdf = df_cdf.drop(cols_to_drop,axis=1)"
            ]
        },
        {
            "attachments": {},
            "cell_type": "markdown",
            "metadata": {},
            "source": [
                "## Long term variable trends\n",
                "\n",
                "Smoothing the lines and looking at long term trends. \n"
            ]
        },
        {
            "cell_type": "code",
            "execution_count": null,
            "metadata": {
                "scrolled": false
            },
            "outputs": [],
            "source": [
                "import matplotlib.pyplot as plt\n",
                "\n",
                "# Looking at long term trends\n",
                "\n",
                "tmp = df_cdf.resample('1D').median()\n",
                "tmp = tmp/tmp.median()\n",
                "tmp.plot(figsize=(15,30), subplots=True,grid=True, ylim=(0.5,1.5))\n",
                "\n"
            ]
        },
        {
            "cell_type": "code",
            "execution_count": null,
            "metadata": {},
            "outputs": [],
            "source": [
                "# Removing obvious outliers with quantiles (also diregarding the noise of the start-up state)\n",
                "\n",
                "for col in tmp:\n",
                "    plt.figure()\n",
                "    tmp_2 = tmp[col].loc[pd.to_datetime('2013-08-01'):]\n",
                "    filtered = tmp_2[(tmp_2>tmp_2.quantile(0.05))&(tmp_2<tmp_2.quantile(0.95))]\n",
                "    filtered.plot(figsize=(15,5))\n",
                "    print(f'{col}: {filtered.std().round(2)}')\n",
                "    plt.title(col)"
            ]
        },
        {
            "attachments": {},
            "cell_type": "markdown",
            "metadata": {},
            "source": [
                "### Observations\n",
                "\n",
                "* H1 2013 period can be dismissed as it has a lot of noise (likely due to start-up of machinery)\n",
                "* Largest deviations occur as follows:\n",
                "    * Pressure of CM out (norm. std of 0.11)\n",
                "    * Outlet pressure (norm. std of 0.08)\n",
                "    * Inlet pressure (norm. std of 0.04)\n",
                "    * Temperature In (norm std of 0.03)\n",
                "* Data for Temperature of gas output starts only from mid 2016; but since it is relatively constant, we can set it to be the same value.\n",
                "* Step changes in the inlet pressure can be seen which could point to alternative operating regions. \n",
                "* Pressure of CM has low effect on simulation result so we can ignore\n",
                "* Outlet pressure has 2 radically different modes of operation; can check both of those scenarios\n",
                "* Early 2020 sees pressure output of suction cooler oscillating more clearly (likely due to opening of anti-surge valve)\n",
                "* Temperature control of Gas Out of suction cooler is more erratic from 2018 onwards.\n"
            ]
        },
        {
            "attachments": {},
            "cell_type": "markdown",
            "metadata": {},
            "source": [
                "## Baseline noise level of sensors\n",
                "\n",
                "Check the baseline noise level of the sensors."
            ]
        },
        {
            "cell_type": "code",
            "execution_count": null,
            "metadata": {},
            "outputs": [],
            "source": [
                "# Checking the average rolling variance over a 12 hour period\n",
                "start_date = pd.to_datetime('2014-01-01')\n",
                "end_date = start_date+ pd.Timedelta(days=1)\n",
                "df = client.time_series.data.retrieve_dataframe(start=start_date, end=end_date, external_id=list(store.keys()), aggregates=['average'], granularity='1s', include_aggregate_name=False)\n",
                "df_gran = df.rename(columns=store)\n"
            ]
        },
        {
            "cell_type": "code",
            "execution_count": null,
            "metadata": {},
            "outputs": [],
            "source": [
                "df_gran.plot(figsize=(15,5))"
            ]
        },
        {
            "cell_type": "code",
            "execution_count": null,
            "metadata": {},
            "outputs": [],
            "source": [
                "# 1 sec granularity over a day of constant operation\n",
                "\n",
                "df_gran.max()-df_gran.median()"
            ]
        },
        {
            "cell_type": "code",
            "execution_count": null,
            "metadata": {},
            "outputs": [],
            "source": [
                "tmp = df_gran['VAL_23-TIC-92504:Z.X.Value_degC_PH 1stStgSuctCool Gas Out Measured Value; ']\n",
                "\n",
                "tmp.plot(figsize=(15,5))\n",
                "tmp.fillna(method='ffill').rolling(3600).median().plot()\n"
            ]
        },
        {
            "cell_type": "code",
            "execution_count": null,
            "metadata": {},
            "outputs": [],
            "source": [
                "tmp = df_gran['VAL_45-TT-92606:X.Value_None_PH 1stStgDiscClr CoolMed Sply; ']\n",
                "\n",
                "tmp.plot(figsize=(15,5))\n",
                "tmp.fillna(method='ffill').rolling(3600).median().plot()\n"
            ]
        },
        {
            "cell_type": "code",
            "execution_count": null,
            "metadata": {},
            "outputs": [],
            "source": [
                "tmp = df_gran['VAL_23-PT-92504:X.Value_None_PH 1stStgSuctCool Gas Out; ']\n",
                "\n",
                "tmp.plot(figsize=(15,5))\n",
                "tmp.fillna(method='ffill').rolling(3600).median().plot()\n"
            ]
        },
        {
            "cell_type": "code",
            "execution_count": null,
            "metadata": {},
            "outputs": [],
            "source": [
                "# 1 hour granularity over a day of constant operation\n",
                "(df_gran.resample('1H').mean().max()-df_gran.resample('1H').mean().median())"
            ]
        },
        {
            "attachments": {},
            "cell_type": "markdown",
            "metadata": {},
            "source": [
                "### Observations\n",
                "\n",
                "* High variablility encountered for 1 second data (>0.6 bar for pressure sensors and 1.7 C for one temperature sensor)\n",
                "* 1 hour data has low variability (<0.1 bar for pressure sensors and <0.3 C for temperature)\n",
                "\n",
                "Looking for operating modes that have greater variability than the threshold found above for 1 hour data"
            ]
        },
        {
            "attachments": {},
            "cell_type": "markdown",
            "metadata": {},
            "source": [
                "## Identifying different operating modes\n",
                "\n",
                "Observations of previous\n",
                "\n",
                "* Inlet pressure has various steady state changes over the historical record (~6). \n",
                "* Outlet pressure has ~2-3 noticeable states that should be covered by the regions identified above (aside from single drop identified in mid 2020)\n",
                "* Potentially can also include a big peak in the inlet temparature (regions of 1.05 and 0.9)"
            ]
        },
        {
            "cell_type": "code",
            "execution_count": null,
            "metadata": {},
            "outputs": [],
            "source": [
                "# Function for outlier removal and s\n",
                "from scipy.signal import savgol_filter\n",
                "\n",
                "def outlier_removal_and_smoother(df, col, polyorder=3, window_length=5):\n",
                "    tmp = df[col]\n",
                "    \n",
                "    # remove start-up perido\n",
                "    tmp = tmp.loc[pd.to_datetime('2013-09-01'):]\n",
                "    \n",
                "    # remove outliers\n",
                "    tmp = tmp[(tmp>tmp.quantile(0.05))&(tmp<tmp.quantile(0.95))]\n",
                "    \n",
                "    # SG smoother\n",
                "    data = tmp.values\n",
                "    index=tmp.index\n",
                "    return pd.Series(savgol_filter(data, window_length=window_length, polyorder=polyorder), index=index)\n",
                "\n",
                "    "
            ]
        },
        {
            "cell_type": "code",
            "execution_count": null,
            "metadata": {},
            "outputs": [],
            "source": [
                "col = df_cdf.filter(regex='23-PT-92504').columns[0]\n",
                "tmp = outlier_removal_and_smoother(df_cdf, col, window_length=101, polyorder=2)\n",
                "\n",
                "#df_cdf[col].plot()\n",
                "tmp.plot(figsize=(15,5))\n",
                "plt.ylim([2.5,4.0])\n",
                "plt.ylabel(col)\n",
                "\n",
                "# break points\n",
                "index = tmp[(tmp.rolling(24).max()-tmp.rolling(24).mean())>0.02].index\n",
                "days = set([item.date() for item in index])\n",
                "for item in days:\n",
                "    plt.axvline(item,color='k')\n",
                "    "
            ]
        },
        {
            "cell_type": "code",
            "execution_count": null,
            "metadata": {},
            "outputs": [],
            "source": [
                "intervals = pd.Series(sorted(days))\n",
                "\n",
                "print(tmp.index[0])\n",
                "print(intervals[0])\n",
                "\n",
                "for day in intervals[intervals.diff()>pd.Timedelta(days=14)].values:\n",
                "    print(day)"
            ]
        },
        {
            "attachments": {},
            "cell_type": "markdown",
            "metadata": {},
            "source": [
                "### Observations\n",
                "\n",
                "From the above, we can take a day in the following time period (I'm choosing half way in between):\n",
                "* 2013-09-01 - 2014-05-30\n",
                "* 2014-05-30 - 2015-01-02\n",
                "* 2015-01-02 - 2016-05-29\n",
                "* 2016-05-28 - 2016-06-23\n",
                "* 2016-06-23 - 2017-09-18\n",
                "* 2017-09-18 - 2018-02-06\n",
                "* 2017-09-15 - 2020-04-07\n",
                "\n",
                "The later periods are affected by the movement of the anti-surge valve, so these will require closer analysis\n",
                "\n"
            ]
        },
        {
            "attachments": {},
            "cell_type": "markdown",
            "metadata": {},
            "source": [
                "## Outlet Pressure Analysis\n",
                "\n",
                "Checking the values of the outlet pressure"
            ]
        },
        {
            "cell_type": "code",
            "execution_count": null,
            "metadata": {},
            "outputs": [],
            "source": [
                "col = df_cdf.filter(regex='outlet').columns[0]\n",
                "tmp = outlier_removal_and_smoother(df_cdf, col, window_length=101, polyorder=2)\n",
                "tmp.plot(figsize=(15,5))\n",
                "plt.ylabel(col)\n",
                "\n",
                "index = tmp[(tmp.rolling(24).max()-tmp.rolling(24).mean())>0.1].index\n",
                "days = set([item.date() for item in index])\n",
                "for item in days:\n",
                "    plt.axvline(item,color='k')"
            ]
        },
        {
            "cell_type": "code",
            "execution_count": null,
            "metadata": {},
            "outputs": [],
            "source": []
        },
        {
            "attachments": {},
            "cell_type": "markdown",
            "metadata": {},
            "source": [
                "## Find all relevant variables\n",
                "\n",
                "Look at each time period and grab the values\n",
                "\n",
                "* 2013-09-01 - 2014-05-30\n",
                "* 2014-05-30 - 2015-01-02\n",
                "* 2015-01-02 - 2016-05-29\n",
                "* 2016-05-28 - 2016-06-23\n",
                "* 2016-06-23 - 2017-09-18\n",
                "* 2017-09-18 - 2018-02-06\n",
                "* 2017-09-15 - 2020-04-07"
            ]
        },
        {
            "cell_type": "code",
            "execution_count": null,
            "metadata": {},
            "outputs": [],
            "source": [
                "def plot_and_grab_all_values(df, start, end, ratio=0.5):\n",
                "    \n",
                "    \n",
                "    interval = (end-start)*ratio\n",
                "    new_start = (start+interval).floor('1h')\n",
                "    new_end = new_start+pd.Timedelta(hours=1)\n",
                "    plot_end = new_start+pd.Timedelta(days=1)\n",
                "    \n",
                "    print(new_start)\n",
                "    \n",
                "    df.loc[new_start:plot_end].plot(subplots=True, figsize=(15,20))\n",
                "    \n",
                "    res = df.loc[new_start:new_end].mean().round(2)\n",
                "    print(res)\n",
                "    res.name = new_start\n",
                "    return res\n",
                "    \n",
                "    "
            ]
        },
        {
            "cell_type": "code",
            "execution_count": null,
            "metadata": {},
            "outputs": [],
            "source": [
                "store=[]"
            ]
        },
        {
            "cell_type": "code",
            "execution_count": null,
            "metadata": {},
            "outputs": [],
            "source": [
                "res = plot_and_grab_all_values(df_cdf, pd.to_datetime('2013-09-01'), pd.to_datetime('2014-05-30'), ratio=0.3)\n",
                "store.append(res)"
            ]
        },
        {
            "cell_type": "code",
            "execution_count": null,
            "metadata": {},
            "outputs": [],
            "source": [
                "res = plot_and_grab_all_values(df_cdf, pd.to_datetime('2014-05-31'), pd.to_datetime('2015-01-03'), ratio=0.2)\n",
                "store.append(res)"
            ]
        },
        {
            "cell_type": "code",
            "execution_count": null,
            "metadata": {},
            "outputs": [],
            "source": [
                "# 2015-01-02 - 2016-05-29\n",
                "\n",
                "res = plot_and_grab_all_values(df_cdf, pd.to_datetime('2015-01-02'), pd.to_datetime('2016-05-29'), ratio=0.2)\n",
                "store.append(res)"
            ]
        },
        {
            "cell_type": "code",
            "execution_count": null,
            "metadata": {},
            "outputs": [],
            "source": [
                "# 2016-06-23 - 2017-09-18\n",
                "\n",
                "res = plot_and_grab_all_values(df_cdf, pd.to_datetime('2016-06-23'), pd.to_datetime('2017-09-18'), ratio=0.85)\n",
                "store.append(res)"
            ]
        },
        {
            "cell_type": "code",
            "execution_count": null,
            "metadata": {},
            "outputs": [],
            "source": [
                "# 2017-09-18 - 2018-02-06\n",
                "\n",
                "res = plot_and_grab_all_values(df_cdf, pd.to_datetime('2017-09-18'), pd.to_datetime('2018-02-06'), ratio=0.8)\n",
                "store.append(res)"
            ]
        },
        {
            "cell_type": "code",
            "execution_count": null,
            "metadata": {},
            "outputs": [],
            "source": [
                "# 2017-09-15 - 2020-04-07\n",
                "\n",
                "res = plot_and_grab_all_values(df_cdf, pd.to_datetime('2017-09-15'), pd.to_datetime('2020-04-07'), ratio=0.5)\n",
                "store.append(res)"
            ]
        },
        {
            "attachments": {},
            "cell_type": "markdown",
            "metadata": {},
            "source": [
                "### Summary of variables\n",
                "\n",
                "Below a summary for each time period (1 hour duration)"
            ]
        },
        {
            "cell_type": "code",
            "execution_count": null,
            "metadata": {},
            "outputs": [],
            "source": [
                "res = pd.concat(store,axis=1)\n",
                "res.index = ['23-PT-92504', '45-TT-92606', '45-PT-92608', '23-TIC-92504', 'TT-92604A', 'Calc. Outlet Pressure']\n",
                "res"
            ]
        }
    ],
    "metadata": {
        "kernelspec": {
            "display_name": "Python 3",
            "language": "python",
            "name": "python3"
        },
        "language_info": {
            "codemirror_mode": {
                "name": "ipython",
                "version": 3
            },
            "file_extension": ".py",
            "mimetype": "text/x-python",
            "name": "python",
            "nbconvert_exporter": "python",
            "pygments_lexer": "ipython3",
            "version": "3.10.10"
        }
    },
    "nbformat": 4,
    "nbformat_minor": 4
}